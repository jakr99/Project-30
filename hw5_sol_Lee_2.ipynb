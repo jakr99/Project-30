{
 "cells": [
  {
   "cell_type": "code",
   "execution_count": null,
   "id": "f36193ff-43ad-437c-b04b-6ee8b250d9c1",
   "metadata": {},
   "outputs": [],
   "source": [
    "#1\n",
    "# Decision Variables: define dp[i][j] as the minimum cost to convert the first i characters of string A to the first j characters of string B.\n",
    "# State Transitions: The state can transition from dp[i-1][j] (delete operation), dp[i][j-1] (insert operation), or dp[i-1][j-1] (substitute or no operation if characters are the same)\n",
    "# Bellman Equation: dp[i][j] = min(dp[i-1][j]+DA[i], dp[i][j-1]+IB[j], dp[i-1][j-1]+CA[i].B[j])\n",
    "# Where DA[i] is the cost of deleting A[i], IB[j] is the cost of inserting B[j], and CA[i],B[j] is the cost of substituting A[i] with B[j]\n"
   ]
  },
  {
   "cell_type": "code",
   "execution_count": null,
   "id": "73a54c24-b633-4158-b3d0-8161b3500e78",
   "metadata": {},
   "outputs": [],
   "source": [
    "#2\n",
    "Initialize dp[0][0] to 0\n",
    "for i from 1 to m:\n",
    "    dp[i][0] = dp[i-1][0] + D_A[i]\n",
    "for j from 1 to n:\n",
    "    dp[0][j] = dp[0][j-1] + I_B[j]\n",
    "for i from 1 to m:\n",
    "    for j from 1 to n:\n",
    "        dp[i][j] = min(dp[i-1][j] + D_A[i],\n",
    "                       dp[i][j-1] + I_B[j],\n",
    "                       dp[i-1][j-1] + C_{A[i], B[j]})\n"
   ]
  },
  {
   "cell_type": "code",
   "execution_count": null,
   "id": "26d1b2e3-52aa-47af-a10c-f46d255c9162",
   "metadata": {},
   "outputs": [],
   "source": [
    "#3\n",
    "Set i, j to 0\n",
    "while i < m and j < n:\n",
    "    if A[i] == B[j]:\n",
    "        i++, j++\n",
    "    elif cost_of_substitution < cost_of_insertion and cost_of_substitution < cost_of_deletion:\n",
    "        substitute A[i] with B[j]\n",
    "        i++, j++\n",
    "    elif cost_of_insertion < cost_of_deletion:\n",
    "        insert B[j] at i\n",
    "        j++\n",
    "    else:\n",
    "        delete A[i]\n",
    "        i++\n",
    "while i < m:\n",
    "    delete A[i]\n",
    "    i++\n",
    "while j < n:\n",
    "    insert B[j]\n",
    "    j++\n"
   ]
  },
  {
   "cell_type": "code",
   "execution_count": 1,
   "id": "66648e4e-04dc-486b-abd5-efc6f98648b6",
   "metadata": {},
   "outputs": [
    {
     "name": "stdout",
     "output_type": "stream",
     "text": [
      "Minimum edit cost: 7\n"
     ]
    }
   ],
   "source": [
    "#4\n",
    "def string_edit_dp(A, B, delete_costs, insert_costs, substitute_costs):\n",
    "    m, n = len(A), len(B)\n",
    "    dp = [[0] * (n + 1) for _ in range(m + 1)]\n",
    "\n",
    "    for i in range(1, m + 1):\n",
    "        dp[i][0] = dp[i-1][0] + delete_costs[ord(A[i-1]) - ord('A')]\n",
    "    for j in range(1, n + 1):\n",
    "        dp[0][j] = dp[0][j-1] + insert_costs[ord(B[j-1]) - ord('A')]\n",
    "\n",
    "    for i in range(1, m + 1):\n",
    "        for j in range(1, n + 1):\n",
    "            delete_cost = dp[i-1][j] + delete_costs[ord(A[i-1]) - ord('A')]\n",
    "            insert_cost = dp[i][j-1] + insert_costs[ord(B[j-1]) - ord('A')]\n",
    "            if A[i-1] == B[j-1]:\n",
    "                substitute_cost = dp[i-1][j-1] \n",
    "            else:\n",
    "                substitute_cost = dp[i-1][j-1] + substitute_costs[ord(A[i-1]) - ord('A')][ord(B[j-1]) - ord('A')]\n",
    "            dp[i][j] = min(delete_cost, insert_cost, substitute_cost)\n",
    "\n",
    "    return dp[m][n]\n",
    "\n",
    "delete_costs = [1] * 26  \n",
    "insert_costs = [1] * 26  \n",
    "substitute_costs = [[1 if i != j else 0 for j in range(26)] for i in range(26)] \n",
    "\n",
    "A = \"ALKHWARIZMI\"\n",
    "B = \"ALGORITHM\"\n",
    "\n",
    "min_cost = string_edit_dp(A, B, delete_costs, insert_costs, substitute_costs)\n",
    "print(\"Minimum edit cost:\", min_cost)\n"
   ]
  },
  {
   "cell_type": "code",
   "execution_count": 2,
   "id": "7806cbaf-2269-471a-83b7-b3da803abe60",
   "metadata": {
    "scrolled": true
   },
   "outputs": [
    {
     "name": "stdout",
     "output_type": "stream",
     "text": [
      "Operations: ['Substitute K with G', 'Substitute H with O', 'Substitute W with R', 'Substitute A with I', 'Substitute R with T', 'Substitute I with H', 'Substitute Z with M', 'Delete M', 'Delete I']\n",
      "Total cost: 9\n"
     ]
    }
   ],
   "source": [
    "#4\n",
    "def string_edit_greedy(A, B, delete_costs, insert_costs, substitute_costs):\n",
    "    i, j = 0, 0\n",
    "    m, n = len(A), len(B)\n",
    "    operations = []\n",
    "    cost = 0\n",
    "\n",
    "    while i < m and j < n:\n",
    "        if A[i] == B[j]:\n",
    "            i += 1\n",
    "            j += 1\n",
    "            continue\n",
    "\n",
    "        delete_cost = delete_costs[ord(A[i]) - ord('A')]\n",
    "        if j < n:\n",
    "            insert_cost = insert_costs[ord(B[j]) - ord('A')]\n",
    "            if i < m:\n",
    "                sub_cost = substitute_costs[ord(A[i]) - ord('A')][ord(B[j]) - ord('A')]\n",
    "        else:\n",
    "            sub_cost = float('inf')\n",
    "\n",
    "        if i < m and j < n and sub_cost <= min(insert_cost, delete_cost):\n",
    "            operations.append(f\"Substitute {A[i]} with {B[j]}\")\n",
    "            cost += sub_cost\n",
    "            i += 1\n",
    "            j += 1\n",
    "        elif j < n and insert_cost <= delete_cost:\n",
    "            operations.append(f\"Insert {B[j]}\")\n",
    "            cost += insert_cost\n",
    "            j += 1\n",
    "        else:\n",
    "            operations.append(f\"Delete {A[i]}\")\n",
    "            cost += delete_cost\n",
    "            i += 1\n",
    "\n",
    "    while i < m:\n",
    "        operations.append(f\"Delete {A[i]}\")\n",
    "        cost += delete_costs[ord(A[i]) - ord('A')]\n",
    "        i += 1\n",
    "    while j < n:\n",
    "        operations.append(f\"Insert {B[j]}\")\n",
    "        cost += insert_costs[ord(B[j]) - ord('A')]\n",
    "        j += 1\n",
    "\n",
    "    return operations, cost\n",
    "\n",
    "delete_costs = [1] * 26 \n",
    "insert_costs = [1] * 26  \n",
    "substitute_costs = [[1 if i != j else 0 for j in range(26)] for i in range(26)] \n",
    "\n",
    "A = \"ALKHWARIZMI\"\n",
    "B = \"ALGORITHM\"\n",
    "\n",
    "operations, total_cost = string_edit_greedy(A, B, delete_costs, insert_costs, substitute_costs)\n",
    "print(\"Operations:\", operations)\n",
    "print(\"Total cost:\", total_cost)\n"
   ]
  },
  {
   "cell_type": "code",
   "execution_count": null,
   "id": "7f7c7976-9818-4b92-9ad1-32b46b582fa4",
   "metadata": {},
   "outputs": [],
   "source": []
  }
 ],
 "metadata": {
  "kernelspec": {
   "display_name": "Python 3 (ipykernel)",
   "language": "python",
   "name": "python3"
  },
  "language_info": {
   "codemirror_mode": {
    "name": "ipython",
    "version": 3
   },
   "file_extension": ".py",
   "mimetype": "text/x-python",
   "name": "python",
   "nbconvert_exporter": "python",
   "pygments_lexer": "ipython3",
   "version": "3.12.2"
  }
 },
 "nbformat": 4,
 "nbformat_minor": 5
}
